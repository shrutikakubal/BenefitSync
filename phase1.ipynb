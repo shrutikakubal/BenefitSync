{
 "cells": [
  {
   "cell_type": "code",
   "execution_count": 1,
   "id": "ac86807f-0390-4b03-a8f9-5ee060e273e0",
   "metadata": {},
   "outputs": [
    {
     "name": "stdout",
     "output_type": "stream",
     "text": [
      "(30000, 4)\n",
      "Index(['EmployeeID', 'BenefitID', 'SatisfactionScore', 'Comments'], dtype='object')\n",
      "624\n",
      "(29376, 4)\n",
      "EmployeeID           0\n",
      "BenefitID            0\n",
      "SatisfactionScore    0\n",
      "Comments             0\n",
      "dtype: int64\n",
      "(30, 4)\n",
      "Index(['BenefitID', 'BenefitType', 'BenefitSubType', 'BenefitCost'], dtype='object')\n",
      "0\n",
      "(30, 4)\n",
      "BenefitID         0\n",
      "BenefitType       0\n",
      "BenefitSubType    0\n",
      "BenefitCost       0\n",
      "dtype: int64\n"
     ]
    },
    {
     "name": "stderr",
     "output_type": "stream",
     "text": [
      "/home/ec2-user/anaconda3/envs/python3/lib/python3.10/site-packages/pandas/core/computation/expressions.py:21: UserWarning: Pandas requires version '2.8.4' or newer of 'numexpr' (version '2.7.3' currently installed).\n",
      "  from pandas.core.computation.check import NUMEXPR_INSTALLED\n"
     ]
    }
   ],
   "source": [
    "import pandas as pd\n",
    "\n",
    "feedback= pd.read_csv(\"assets/data/feedback_data.csv\")\n",
    "benefits= pd.read_csv(\"assets/data/benefits_data.csv\")\n",
    "\n",
    "def clean(df):\n",
    "    print(df.shape)\n",
    "    print(df.columns)\n",
    "    print(df.duplicated().sum())\n",
    "    df.drop_duplicates(inplace=True)\n",
    "    print(df.shape)\n",
    "    print(df.isna().sum())\n",
    "\n",
    "clean(feedback)\n",
    "clean(benefits)"
   ]
  },
  {
   "cell_type": "code",
   "execution_count": 2,
   "id": "8ba89249-7adf-4979-9ede-e7fece74cbef",
   "metadata": {},
   "outputs": [],
   "source": [
    "!pip install -qU \\\n",
    "            langchain-openai==0.3.3 \\\n",
    "            langchain==0.3.17 \\\n",
    "            textblob"
   ]
  },
  {
   "cell_type": "code",
   "execution_count": 3,
   "id": "ff97b85a-7f18-44e0-9265-75f3514f1e75",
   "metadata": {},
   "outputs": [],
   "source": [
    "with open('api.txt', 'r') as file:\n",
    "    OPENAI_API_KEY = file.read().strip()\n"
   ]
  },
  {
   "cell_type": "code",
   "execution_count": 4,
   "id": "54094bcc-ad95-472d-b25d-1d6f8c5f6c0b",
   "metadata": {},
   "outputs": [
    {
     "name": "stdout",
     "output_type": "stream",
     "text": [
      "(29376, 6)\n",
      "Index(['EmployeeID', 'BenefitID', 'SatisfactionScore', 'Comments',\n",
      "       'BenefitType', 'BenefitSubType'],\n",
      "      dtype='object')\n",
      "0\n",
      "(29376, 6)\n",
      "EmployeeID           0\n",
      "BenefitID            0\n",
      "SatisfactionScore    0\n",
      "Comments             0\n",
      "BenefitType          0\n",
      "BenefitSubType       0\n",
      "dtype: int64\n"
     ]
    }
   ],
   "source": [
    "df = pd.merge(\n",
    "    feedback,\n",
    "    benefits[['BenefitID', 'BenefitType', 'BenefitSubType']],\n",
    "    on='BenefitID',\n",
    "    how='left'\n",
    ")\n",
    "\n",
    "clean(df)"
   ]
  },
  {
   "cell_type": "code",
   "execution_count": 5,
   "id": "4da45ed5-0306-4fe1-9521-f679ebadd23c",
   "metadata": {},
   "outputs": [
    {
     "name": "stdout",
     "output_type": "stream",
     "text": [
      "BenefitTypes: ['Gym Membership' 'Tuition Reimbursement' 'Commuter Benefits'\n",
      " 'Life Insurance' 'Retirement Plan' 'Health Insurance'\n",
      " 'Cell Phone Allowance' 'Flexible Spending Account' 'Wellness Programs'\n",
      " 'Childcare' 'Professional Development' 'Technology Stipend']\n",
      "BenefitSubTypes: ['Tier 2 Partners' 'Undergraduate Degree' 'Transit Subsidy'\n",
      " 'Supplemental Standard' '401k Basic Matching' '401k Investment Fees'\n",
      " 'Individual Courses' 'Dependent Coverage' 'Basic Coverage'\n",
      " 'Tier 3 Partners' 'HMO Family' 'PPO Family' '401k Catch-Up Contributions'\n",
      " 'PPO Individual' 'Monthly Communications' 'HDHP Individual'\n",
      " 'Healthcare FSA' 'Premium Discount Tier 1' 'After-School Care'\n",
      " 'Graduate Degree' 'On-Site Infant Care' 'Conference Attendance'\n",
      " 'Family Membership' 'Monthly Internet Allowance' 'Tier 1 Partners'\n",
      " '401k Standard Matching' 'Professional Certification'\n",
      " 'Supplemental High Amount' '401k Maximum Matching'\n",
      " '401k High Contribution']\n"
     ]
    }
   ],
   "source": [
    "print(f\"BenefitTypes: {df['BenefitType'].unique()}\")\n",
    "print(f\"BenefitSubTypes: {df['BenefitSubType'].unique()}\")"
   ]
  },
  {
   "cell_type": "code",
   "execution_count": 6,
   "id": "78b92dac-f06d-446d-b012-ceee12652c86",
   "metadata": {
    "scrolled": true
   },
   "outputs": [
    {
     "name": "stderr",
     "output_type": "stream",
     "text": [
      "100%|██████████| 25/25 [01:09<00:00,  2.79s/it]"
     ]
    },
    {
     "name": "stdout",
     "output_type": "stream",
     "text": [
      "✅ Processed feedback saved to 'feedback_chained_output.csv'.\n"
     ]
    },
    {
     "name": "stderr",
     "output_type": "stream",
     "text": [
      "\n"
     ]
    }
   ],
   "source": [
    "import os\n",
    "import pandas as pd\n",
    "from tqdm import tqdm\n",
    "from langchain_openai import ChatOpenAI\n",
    "from langchain_core.prompts import PromptTemplate\n",
    "from langchain_core.output_parsers import StrOutputParser\n",
    "from textblob import TextBlob\n",
    "\n",
    "\n",
    "# LangChain setup\n",
    "llm = ChatOpenAI(temperature=0, model=\"gpt-4o-mini\", api_key=OPENAI_API_KEY)\n",
    "parser = StrOutputParser()\n",
    "\n",
    "# === Load Feedback Data ===\n",
    "df = df.head(25)  # limit for testing\n",
    "\n",
    "# === Step 1: Feedback Classification ===\n",
    "classify_prompt = PromptTemplate.from_template(\"\"\"\n",
    "Classify the following employee comment into **one of the categories** below.\n",
    "Also consider specific benefit types and subtypes mentioned, such as Gym Membership, Tuition Reimbursement, Health Insurance, etc.\n",
    "\n",
    "Choose ONLY ONE category from the list:\n",
    "\n",
    "1. Process Issues — Problems with how a benefit is applied for, claimed, or managed (e.g., reimbursement delays)\n",
    "2. Coverage Issues — Complaints about what is or isn’t covered under the benefit plan\n",
    "3. Benefit Value — Perceptions about whether the benefit is worth it or meets employee needs\n",
    "4. Enrollment & Access Issues — Difficulty enrolling, accessing, or navigating benefit platforms\n",
    "5. Communication & Clarity — Confusion due to unclear terms, poor documentation, or lack of information\n",
    "6. Provider Specific Complaints — Complaints aimed at third-party providers (e.g., gym partners, HMO networks)\n",
    "7. Other  — Does not clearly fit in the above categories\n",
    "\n",
    "Respond with only the category name.\n",
    "\n",
    "Comment: {comments}\n",
    "BenefitType: {BenefitType}\n",
    "BenefitSubType: {BenefitSubType}\n",
    "\"\"\")\n",
    "\n",
    "classify_chain = classify_prompt | llm | parser\n",
    "\n",
    "# === Step 2: Action Identification ===\n",
    "action_prompt = PromptTemplate.from_template(\"\"\"\n",
    "Given the comment,benefittype, benefitsubtype, category, sentiment, and severity, determine if this issue requires action.\n",
    "If yes, summarize the action briefly in a sentence or less.\n",
    "\n",
    "Comment: {comments}\n",
    "BenefitType: {BenefitType}\n",
    "BenefitSubType: {BenefitSubType}\n",
    "Category: {category}\n",
    "Sentiment: {sentiment}\n",
    "Severity: {severity}\n",
    "\n",
    "Return:\n",
    "Actionable: Yes/No\n",
    "Suggested Action: <action or 'None'>\n",
    "\"\"\")\n",
    "action_chain = action_prompt | llm | parser\n",
    "\n",
    "# === Step 3: Task Routing ===\n",
    "route_prompt = PromptTemplate.from_template(\"\"\"\n",
    "Route this issue to the correct department and assign a priority level.\n",
    "\n",
    "Inputs:\n",
    "- Category: {category}\n",
    "- BenefitType: {BenefitType}\n",
    "- BenefitSubType: {BenefitSubType}\n",
    "- Suggested Action: {suggested_action}\n",
    "- Severity: {severity}\n",
    "\n",
    "Output format:\n",
    "Department: <department>\n",
    "Priority: <High/Medium/Low>\n",
    "\"\"\")\n",
    "route_chain = route_prompt | llm | parser\n",
    "\n",
    "\n",
    "# === Step 4: Issue Summary ===\n",
    "issue_summary_prompt = PromptTemplate.from_template(\"\"\"\n",
    "Summarize the employee's issue clearly and concisely in one sentence, using the inputs below.\n",
    "\n",
    "Comment: {comments}\n",
    "BenefitType: {BenefitType}\n",
    "BenefitSubType: {BenefitSubType}\n",
    "Category: {category}\n",
    "Sentiment: {sentiment}\n",
    "Severity: {severity}\n",
    "Suggested Action: {suggested_action}\n",
    "\n",
    "Return:\n",
    "<One-sentence issue summary>\n",
    "\"\"\")\n",
    "issue_summary_chain = issue_summary_prompt | llm | parser\n",
    "\n",
    "\n",
    "# === Sentiment Analysis using TextBlob ===\n",
    "def analyze_sentiment(comment: str):\n",
    "    try:\n",
    "        if not comment or not isinstance(comment, str):\n",
    "            return \"Neutral\", 3  # Default fallback\n",
    "\n",
    "        blob = TextBlob(comment)\n",
    "        polarity = blob.sentiment.polarity  # Ranges from -1 to 1\n",
    "        subjectivity = blob.sentiment.subjectivity  # Ranges from 0 to 1\n",
    "\n",
    "        # Sentiment label\n",
    "        if polarity >= 0.3:\n",
    "            sentiment = \"Positive\"\n",
    "        elif polarity <= -0.3:\n",
    "            sentiment = \"Negative\"\n",
    "        else:\n",
    "            sentiment = \"Neutral\"\n",
    "\n",
    "        # Granular severity mapping\n",
    "        if polarity >= 0.6:\n",
    "            severity = 1  # Very positive\n",
    "        elif polarity >= 0.3:\n",
    "            severity = 2  # Mild positive\n",
    "        elif polarity > -0.3:\n",
    "            severity = 3  # Neutral\n",
    "        elif polarity > -0.6:\n",
    "            severity = 4  # Mild negative\n",
    "        else:\n",
    "            severity = 5  # Very negative\n",
    "\n",
    "        # Adjust for very vague/unopinionated comments\n",
    "        if subjectivity < 0.2 and sentiment == \"Neutral\":\n",
    "            severity = 2  # Informational, not severe\n",
    "\n",
    "        return sentiment, severity\n",
    "\n",
    "    except Exception as e:\n",
    "        print(f\"[Sentiment Error]: {e}\")\n",
    "        return \"Neutral\", 3\n",
    "\n",
    "\n",
    "# === Process Each Feedback Comment ===\n",
    "results = []\n",
    "\n",
    "for _, row in tqdm(df.iterrows(), total=len(df)):\n",
    "    comment = row[\"Comments\"]\n",
    "    employee_id = row[\"EmployeeID\"]\n",
    "    benefit_id = row[\"BenefitID\"]\n",
    "    BenefitType = row['BenefitType']\n",
    "    BenefitSubType = row['BenefitSubType']\n",
    "    # Step 1: Category Classification\n",
    "    category = classify_chain.invoke({\n",
    "        \"comments\": comment,\n",
    "        \"BenefitType\": BenefitType,\n",
    "        \"BenefitSubType\": BenefitSubType}).strip()\n",
    "\n",
    "    # Step 2: Sentiment Analysis (local NLP)\n",
    "    sentiment, severity = analyze_sentiment(comment)\n",
    "\n",
    "    # Step 3: Action Identification\n",
    "    action_output = action_chain.invoke({\n",
    "        \"comments\": comment,\n",
    "        \"BenefitType\": BenefitType,\n",
    "        \"BenefitSubType\": BenefitSubType,\n",
    "        \"category\": category,\n",
    "        \"sentiment\": sentiment,\n",
    "        \"severity\": severity\n",
    "    })\n",
    "    actionable, suggested_action = \"No\", \"None\"\n",
    "    if \"Actionable:\" in action_output:\n",
    "        parts = action_output.split(\"Suggested Action:\")\n",
    "        actionable = parts[0].split(\":\")[1].strip()\n",
    "        suggested_action = parts[1].strip() if len(parts) > 1 else \"None\"\n",
    "\n",
    "    # Step 4: Task Routing\n",
    "    route_output = route_chain.invoke({\n",
    "        \"category\": category,\n",
    "        \"BenefitType\": BenefitType,\n",
    "        \"BenefitSubType\": BenefitSubType,\n",
    "        \"suggested_action\": suggested_action,\n",
    "        \"severity\": severity\n",
    "    })\n",
    "    try:\n",
    "        lines = route_output.split(\"\\n\")\n",
    "        department = lines[0].split(\":\")[1].strip()\n",
    "        priority = lines[1].split(\":\")[1].strip()\n",
    "    except:\n",
    "        department = \"Unknown\"\n",
    "        issue_summary = \"Parsing error\"\n",
    "        priority = \"Medium\"\n",
    "\n",
    "    # Step 5: Generate Issue Summary\n",
    "    issue_summary = issue_summary_chain.invoke({\n",
    "        \"comments\": comment,\n",
    "        \"BenefitType\": BenefitType,\n",
    "        \"BenefitSubType\": BenefitSubType,\n",
    "        \"category\": category,\n",
    "        \"sentiment\": sentiment,\n",
    "        \"severity\": severity,\n",
    "        \"suggested_action\": suggested_action\n",
    "    }).strip()\n",
    "\n",
    "    # Add to results\n",
    "    results.append({\n",
    "        \"EmployeeID\": employee_id,\n",
    "        \"BenefitID\": benefit_id,\n",
    "        \"Comments\": comment,\n",
    "        \"BenefitType\": BenefitType,\n",
    "        \"BenefitSubType\": BenefitSubType,\n",
    "        \"Category\": category,\n",
    "        \"Sentiment\": sentiment,\n",
    "        \"Severity\": severity,\n",
    "        \"Actionable\": actionable,\n",
    "        \"SuggestedAction\": suggested_action,\n",
    "        \"Department\": department,\n",
    "        \"Priority\": priority,\n",
    "        \"IssueSummary\": issue_summary\n",
    "    })\n",
    "\n",
    "# Save final results\n",
    "results_df = pd.DataFrame(results)\n",
    "results_df.to_csv(\"feedback_chained_output.csv\", index=False)\n",
    "print(\"✅ Processed feedback saved to 'feedback_chained_output.csv'.\")\n"
   ]
  },
  {
   "cell_type": "code",
   "execution_count": 7,
   "id": "39b3f739-1366-4e6f-9b0e-36ccd68bf4fb",
   "metadata": {},
   "outputs": [
    {
     "data": {
      "text/plain": [
       "array(['Benefit Value', 'Other', 'Coverage Issues', 'Process Issues',\n",
       "       'Provider Specific Complaints'], dtype=object)"
      ]
     },
     "execution_count": 7,
     "metadata": {},
     "output_type": "execute_result"
    }
   ],
   "source": [
    "results_df['Category'].unique()"
   ]
  },
  {
   "cell_type": "code",
   "execution_count": 8,
   "id": "a34ab1f4-f4e1-4707-bc65-0f737e03326b",
   "metadata": {},
   "outputs": [
    {
     "data": {
      "text/plain": [
       "array(['Benefits Administration', 'Human Resources',\n",
       "       'Life Insurance Department', 'Customer Service',\n",
       "       'Health Insurance Coverage'], dtype=object)"
      ]
     },
     "execution_count": 8,
     "metadata": {},
     "output_type": "execute_result"
    }
   ],
   "source": [
    "results_df['Department'].unique()"
   ]
  },
  {
   "cell_type": "code",
   "execution_count": 9,
   "id": "a42726a2-4a85-4307-8317-6e427a895b79",
   "metadata": {},
   "outputs": [
    {
     "data": {
      "text/plain": [
       "array(['None',\n",
       "       'Review the tuition reimbursement process for potential improvements.',\n",
       "       'Review and assess the adequacy of the vacation days offered.',\n",
       "       'Review and enhance the coverage options for the supplemental standard life insurance.',\n",
       "       'Simplify the reimbursement process for individual courses.',\n",
       "       \"Address the customer's concerns regarding service quality.\",\n",
       "       'Review the benefit value of the basic life insurance coverage.',\n",
       "       'Review and consider increasing the time off provided.',\n",
       "       'Review and enhance the value of the Tier 3 Partners gym membership.',\n",
       "       'Consider enhancing the HMO Family health insurance benefits to improve customer satisfaction.',\n",
       "       'Consider reviewing and enhancing the PPO Family health insurance benefits.',\n",
       "       'Review and enhance the life insurance coverage options.',\n",
       "       'Consider reviewing and enhancing the PPO Individual health insurance plan to improve customer satisfaction.',\n",
       "       'Review the flexibility of the cell phone allowance policy.',\n",
       "       'Review and improve coverage options for HDHP Individual plans.'],\n",
       "      dtype=object)"
      ]
     },
     "execution_count": 9,
     "metadata": {},
     "output_type": "execute_result"
    }
   ],
   "source": [
    "results_df['SuggestedAction'].unique()"
   ]
  },
  {
   "cell_type": "code",
   "execution_count": null,
   "id": "ed94e015-301c-4a45-ba30-c29d5128b29f",
   "metadata": {},
   "outputs": [],
   "source": []
  }
 ],
 "metadata": {
  "kernelspec": {
   "display_name": "conda_python3",
   "language": "python",
   "name": "conda_python3"
  },
  "language_info": {
   "codemirror_mode": {
    "name": "ipython",
    "version": 3
   },
   "file_extension": ".py",
   "mimetype": "text/x-python",
   "name": "python",
   "nbconvert_exporter": "python",
   "pygments_lexer": "ipython3",
   "version": "3.10.18"
  }
 },
 "nbformat": 4,
 "nbformat_minor": 5
}
