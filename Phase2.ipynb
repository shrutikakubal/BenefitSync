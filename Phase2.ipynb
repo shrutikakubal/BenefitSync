{
 "cells": [
  {
   "cell_type": "markdown",
   "id": "4fd99d98-4820-4627-be43-376d212d0695",
   "metadata": {},
   "source": [
    "1.3.2. Phase 2: Policy Document Indexing for RAG\n",
    "\n",
    "Index benefits policy PDFs for Retrieval-Augmented Generation (RAG) to enable\n",
    "efficient policy retrieval.\n",
    "\n",
    "Text Extraction: Use PyPDF2 to extract text from policy PDFs, removing noise\n",
    "(e.g., page numbers).\n",
    "\n",
    "Text Preprocessing: Segment text into chunks (e.g., 200 words per chunk).\n",
    "\n",
    "Vector Store Creation: Build a Chroma vector store using embeddings from \n",
    "sentence-transformers or OpenAI.\n",
    "\n",
    "Retrieval Testing: Test retrieval with 5 HR policy queries (e.g., “What is the\n",
    "eligibility for Tuition Reimbursement?”) and evaluate chunk relevance."
   ]
  },
  {
   "cell_type": "code",
   "execution_count": 2,
   "id": "a5de3da5-44ef-4baa-ac25-643fe636b661",
   "metadata": {},
   "outputs": [
    {
     "name": "stdout",
     "output_type": "stream",
     "text": [
      "Collecting PyPDF2\n",
      "  Downloading pypdf2-3.0.1-py3-none-any.whl.metadata (6.8 kB)\n",
      "Downloading pypdf2-3.0.1-py3-none-any.whl (232 kB)\n",
      "Installing collected packages: PyPDF2\n",
      "Successfully installed PyPDF2-3.0.1\n"
     ]
    }
   ],
   "source": [
    "!pip install PyPDF2"
   ]
  },
  {
   "cell_type": "code",
   "execution_count": 105,
   "id": "3d644c3d-72a3-4a3d-8d11-fd161c38abc4",
   "metadata": {},
   "outputs": [
    {
     "name": "stdout",
     "output_type": "stream",
     "text": [
      "Found PDF: ./assets/benefits/gym-policy.pdf\n",
      "Total pages: 7\n",
      "Found PDF: ./assets/benefits/life-insurance-policy.pdf\n",
      "Total pages: 8\n",
      "Found PDF: ./assets/benefits/childcare-policy.pdf\n",
      "Total pages: 8\n",
      "Found PDF: ./assets/benefits/401k-retirement-policy.pdf\n",
      "Total pages: 9\n",
      "Found PDF: ./assets/benefits/work-from-home-policy.pdf\n",
      "Total pages: 7\n",
      "Found PDF: ./assets/benefits/vacation-policy.pdf\n",
      "Total pages: 7\n",
      "Found PDF: ./assets/benefits/health-insurance-policy.pdf\n",
      "Total pages: 7\n",
      "Found PDF: ./assets/benefits/tuition-reimbursement-policy.pdf\n",
      "Total pages: 8\n"
     ]
    }
   ],
   "source": [
    "from PyPDF2 import PdfReader\n",
    "from langchain_text_splitters import RecursiveCharacterTextSplitter,CharacterTextSplitter\n",
    "import os\n",
    "import pandas as pd\n",
    "\n",
    "directory_path = './assets/benefits/'  # Replace with the actual directory path\n",
    "\n",
    "pdf_rows = []\n",
    "text_splitter = CharacterTextSplitter(separator='\\n\\n',chunk_size=200,chunk_overlap=0)\n",
    "\n",
    "for filename in os.listdir(directory_path):\n",
    "    if filename.endswith('.pdf'):\n",
    "        full_path = os.path.join(directory_path, filename)\n",
    "        print(f\"Found PDF: {full_path}\")\n",
    "        reader = PdfReader(full_path)\n",
    "        total_pages = len(reader.pages)\n",
    "        print(f\"Total pages: {total_pages}\")\n",
    "        for i in range(total_pages):\n",
    "            chunk_num = 0\n",
    "            page_text = reader.pages[i].extract_text()\n",
    "            page_text = page_text.replace(\"Introduction\", '')\n",
    "            chunks = text_splitter.split_text(page_text)\n",
    "            for c in chunks:\n",
    "                pdf_rows.append({'policy': filename, 'page': i, 'chunk': chunk_num,'text': c})\n",
    "                chunk_num+=1\n",
    "policy_pdfs = pd.DataFrame(pdf_rows)"
   ]
  },
  {
   "cell_type": "code",
   "execution_count": 106,
   "id": "f0c65369-20e5-46db-81cc-ef4c2199651f",
   "metadata": {},
   "outputs": [
    {
     "data": {
      "text/plain": [
       "'In addition to traditional gym memberships, all TechLance employees and their families have\\ncomplimentary access to our curated online ﬁtness platform, which includes workout videos,\\nwellness content, and live virtual classes. We also provide premium subscriptions to popular\\nﬁtness apps such as Peloton Digital, Nike Training Club, and Headspace for meditation and\\nmindfulness training.\\nEnrollment Process and Payment Options\\nGetting started with our ﬁtness beneﬁts is straightforward, though it requires some planning and\\ndocumentation. All active full-time and part-time employees working at least 20 hours per week\\nare eligible for ﬁtness beneﬁts immediately upon hire, with no waiting period or probationary\\nrequirements.\\nTo enroll, employees ﬁrst browse available ﬁtness partners through our beneﬁts portal,\\ncomparing locations, amenities, class schedules, and member ratings. Once you’ve selected a\\npreferred facility, you’ll need to complete the enrollment process through our portal, uploading\\nemployment veriﬁcation documents such as a recent pay stub or HR veriﬁcation letter, along with\\nphoto identiﬁcation and emergency contact information.\\nMost ﬁtness centers also require completion of a basic health questionnaire and liability waiver\\nbefore beginning membership. Some facilities may have additional requirements or capacity\\nlimitations that could aﬀect immediate availability.\\nTechLance oﬀers two payment options for ﬁtness memberships. Payroll deduction is the most\\npopular choice, allowing automatic monthly deduction from your paycheck using pre-tax dollars\\nthrough our Flexible Spending Account program. This option provides immediate tax savings and\\nensures that your membership payments are consistent even if membership fees increase.\\nAlternatively, you can choose to pay the ﬁtness center directly, which oﬀers more ﬂexibility for\\npausing or modifying memberships but doesn’t provide the same tax advantages.\\nUsage Guidelines and Facility Policies'"
      ]
     },
     "execution_count": 106,
     "metadata": {},
     "output_type": "execute_result"
    }
   ],
   "source": [
    "policy_pdfs['text'][3]"
   ]
  }
 ],
 "metadata": {
  "kernelspec": {
   "display_name": "conda_python3",
   "language": "python",
   "name": "conda_python3"
  },
  "language_info": {
   "codemirror_mode": {
    "name": "ipython",
    "version": 3
   },
   "file_extension": ".py",
   "mimetype": "text/x-python",
   "name": "python",
   "nbconvert_exporter": "python",
   "pygments_lexer": "ipython3",
   "version": "3.10.18"
  }
 },
 "nbformat": 4,
 "nbformat_minor": 5
}
